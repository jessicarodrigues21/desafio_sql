{
  "nbformat": 4,
  "nbformat_minor": 0,
  "metadata": {
    "colab": {
      "provenance": [],
      "authorship_tag": "ABX9TyNUb7OW07ZUrDmtzFDn8nWv",
      "include_colab_link": true
    },
    "kernelspec": {
      "name": "python3",
      "display_name": "Python 3"
    },
    "language_info": {
      "name": "python"
    }
  },
  "cells": [
    {
      "cell_type": "markdown",
      "metadata": {
        "id": "view-in-github",
        "colab_type": "text"
      },
      "source": [
        "<a href=\"https://colab.research.google.com/github/jessicarodrigues21/desafio_sql/blob/main/cliente_compras.ipynb\" target=\"_parent\"><img src=\"https://colab.research.google.com/assets/colab-badge.svg\" alt=\"Open In Colab\"/></a>"
      ]
    },
    {
      "cell_type": "code",
      "execution_count": 1,
      "metadata": {
        "colab": {
          "base_uri": "https://localhost:8080/"
        },
        "id": "OM55nBv5brAf",
        "outputId": "03e2f2c9-5e55-4e98-c44e-9c599cd81937"
      },
      "outputs": [
        {
          "output_type": "stream",
          "name": "stdout",
          "text": [
            "Conexão aberta!\n"
          ]
        }
      ],
      "source": [
        "import sqlite3\n",
        "\n",
        "conn = sqlite3.connect('cliente.db')\n",
        "print('Conexão aberta!')\n",
        "\n",
        "conn.execute('CREATE TABLE clientes(id INT PRIMARY KEY, nome VARCHAR(100), idade INT, saldo FLOAT)')\n",
        "\n",
        "conn.commit()"
      ]
    },
    {
      "cell_type": "code",
      "source": [
        "conn.execute('INSERT INTO clientes (id, nome, idade, saldo) VALUES(1, \"Carlos Silva\", 34, 1500.50)')\n",
        "conn.execute('INSERT INTO clientes (id, nome, idade, saldo) VALUES(2, \"Maria Fernanda\", 28, 2500.00)')\n",
        "conn.execute('INSERT INTO clientes (id, nome, idade, saldo) VALUES(3, \"João Pereira\", 45, 3000.75)')\n",
        "conn.execute('INSERT INTO clientes (id, nome, idade, saldo) VALUES(4, \"Ana Carolina\", 32, 1800.20)')\n",
        "\n",
        "conn.commit()"
      ],
      "metadata": {
        "id": "JXm8Uz29cAcB"
      },
      "execution_count": 2,
      "outputs": []
    },
    {
      "cell_type": "code",
      "source": [
        "dados = conn.execute('SELECT AVG(saldo) AS saldo_medio FROM clientes;')\n",
        "for clientes in dados:\n",
        "    print(clientes)"
      ],
      "metadata": {
        "colab": {
          "base_uri": "https://localhost:8080/"
        },
        "id": "munkdYDgcL3w",
        "outputId": "967a7d9d-dd4a-46bc-b741-83b4d35594f8"
      },
      "execution_count": 3,
      "outputs": [
        {
          "output_type": "stream",
          "name": "stdout",
          "text": [
            "(2200.3625,)\n"
          ]
        }
      ]
    },
    {
      "cell_type": "code",
      "source": [
        "dados = conn.execute('SELECT nome, MAX(saldo) AS saldo_maximo FROM clientes GROUP BY nome ORDER BY saldo_maximo DESC LIMIT 1;')\n",
        "for clientes in dados:\n",
        "    print(clientes)"
      ],
      "metadata": {
        "colab": {
          "base_uri": "https://localhost:8080/"
        },
        "id": "GrMSlQ2lcSGS",
        "outputId": "46318f84-737b-45f5-855c-3fe56ef15556"
      },
      "execution_count": 5,
      "outputs": [
        {
          "output_type": "stream",
          "name": "stdout",
          "text": [
            "('João Pereira', 3000.75)\n"
          ]
        }
      ]
    },
    {
      "cell_type": "code",
      "source": [
        "dados = conn.execute('SELECT COUNT(*) AS acima_de_1000 FROM clientes WHERE saldo > 1000')\n",
        "for clientes in dados:\n",
        "    print(clientes)"
      ],
      "metadata": {
        "colab": {
          "base_uri": "https://localhost:8080/"
        },
        "id": "mVJM1t4tcmO6",
        "outputId": "83a732f4-694a-4fb0-9aa8-7a033319464b"
      },
      "execution_count": 6,
      "outputs": [
        {
          "output_type": "stream",
          "name": "stdout",
          "text": [
            "(4,)\n"
          ]
        }
      ]
    },
    {
      "cell_type": "code",
      "source": [
        "dados = conn.execute('UPDATE clientes SET saldo = 2000 WHERE id = 3')\n",
        "for clientes in dados:\n",
        "    print(clientes)"
      ],
      "metadata": {
        "id": "QwX2jQ4ncq7a"
      },
      "execution_count": 7,
      "outputs": []
    },
    {
      "cell_type": "code",
      "source": [
        "dados = conn.execute('DELETE FROM clientes WHERE id = 2')\n",
        "for clientes in dados:\n",
        "    print(clientes)"
      ],
      "metadata": {
        "id": "jIMQtW4OcziN"
      },
      "execution_count": 9,
      "outputs": []
    },
    {
      "cell_type": "code",
      "source": [
        "\n",
        "for clientes in dados:\n",
        "    print(clientes)"
      ],
      "metadata": {
        "id": "ECNfuMa3c4st"
      },
      "execution_count": null,
      "outputs": []
    },
    {
      "cell_type": "code",
      "source": [
        "conn.execute('CREATE TABLE compras(id INT PRIMARY KEY, cliente_id INT, produto TEXT, valor REAL, FOREIGN KEY (cliente_id) REFERENCES clientes(id))')"
      ],
      "metadata": {
        "id": "qUSxMwPKc_q2"
      },
      "execution_count": null,
      "outputs": []
    },
    {
      "cell_type": "code",
      "source": [
        "conn.execute('INSERT INTO compras (id, cliente_id, produto, valor) VALUES(1, 1, \"Livro de SQL\", 50.00)')\n",
        "conn.execute('INSERT INTO compras (id, cliente_id, produto, valor) VALUES(2, 2, \"Mouse sem fio\", 30.00)')\n",
        "conn.execute('INSERT INTO compras (id, cliente_id, produto, valor) VALUES(3, 1, \"Teclado mecânico\", 120.00)')\n",
        "conn.execute('INSERT INTO compras (id, cliente_id, produto, valor) VALUES(4, 3, \"Monitor 24 polegadas\", 300.00)')\n",
        "conn.execute('INSERT INTO compras (id, cliente_id, produto, valor) VALUES(5, 2, \"Carregador portátil\", 25.00)')"
      ],
      "metadata": {
        "id": "v-PBuKgndD7e"
      },
      "execution_count": null,
      "outputs": []
    },
    {
      "cell_type": "code",
      "source": [
        "dados = conn.execute('SELECT c.nome, p.produto, p.valor FROM compras p JOIN clientes c ON p.cliente_id = c.id')\n",
        "for clientes in dados:\n",
        "    print(clientes)"
      ],
      "metadata": {
        "colab": {
          "base_uri": "https://localhost:8080/"
        },
        "id": "udIYuXQ1dbAx",
        "outputId": "64e69e1d-e141-4947-ecbf-7b150ab91f0c"
      },
      "execution_count": 12,
      "outputs": [
        {
          "output_type": "stream",
          "name": "stdout",
          "text": [
            "('Carlos Silva', 'Livro de SQL', 50.0)\n",
            "('Carlos Silva', 'Teclado mecânico', 120.0)\n",
            "('João Pereira', 'Monitor 24 polegadas', 300.0)\n"
          ]
        }
      ]
    }
  ]
}