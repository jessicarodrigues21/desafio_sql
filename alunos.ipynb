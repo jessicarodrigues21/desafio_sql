{
  "nbformat": 4,
  "nbformat_minor": 0,
  "metadata": {
    "colab": {
      "provenance": [],
      "authorship_tag": "ABX9TyOXOc+khfADO0xOafFsdS7I",
      "include_colab_link": true
    },
    "kernelspec": {
      "name": "python3",
      "display_name": "Python 3"
    },
    "language_info": {
      "name": "python"
    }
  },
  "cells": [
    {
      "cell_type": "markdown",
      "metadata": {
        "id": "view-in-github",
        "colab_type": "text"
      },
      "source": [
        "<a href=\"https://colab.research.google.com/github/jessicarodrigues21/desafio_sql/blob/main/alunos.ipynb\" target=\"_parent\"><img src=\"https://colab.research.google.com/assets/colab-badge.svg\" alt=\"Open In Colab\"/></a>"
      ]
    },
    {
      "cell_type": "code",
      "execution_count": null,
      "metadata": {
        "id": "K8cdsYgq37Ta"
      },
      "outputs": [],
      "source": [
        "import sqlite3\n",
        "\n",
        "conn = sqlite3.connect('desafio.db')\n",
        "print('Conexão aberta!')\n",
        "\n",
        "conn.execute('CREATE TABLE alunos(id INT, nome VARCHAR(100), idade INT, curso Varchar(100))')\n",
        "\n",
        "conn.commit()"
      ]
    },
    {
      "cell_type": "code",
      "source": [
        "conn.execute('INSERT INTO alunos(id, nome, idade, curso) VALUES(1, \"ANA\", 20, \"Computaçao\")')\n",
        "conn.execute('INSERT INTO alunos(id, nome, idade, curso) VALUES(2, \"Caio\", 18, \"Administração\")')\n",
        "conn.execute('INSERT INTO alunos(id, nome, idade, curso) VALUES(3, \"Maria\", 22, \"Contabilidade\")')\n",
        "conn.execute('INSERT INTO alunos(id, nome, idade, curso) VALUES(4, \"Lucas\", 19, \"Matematica\")')\n",
        "conn.execute('INSERT INTO alunos(id, nome, idade, curso) VALUES(5, \"Carol\", 28, \"Medicina\")')\n",
        "\n",
        "conn.commit()"
      ],
      "metadata": {
        "id": "FEaKElLI4moP"
      },
      "execution_count": null,
      "outputs": []
    },
    {
      "cell_type": "code",
      "source": [
        "dados = conn.execute('SELECT * FROM alunos')\n",
        "\n",
        "for usuario in dados:\n",
        "    print(usuario)"
      ],
      "metadata": {
        "id": "wg4RMebv4-dn",
        "outputId": "65a678dd-afd0-4702-b585-cff12e1f1066",
        "colab": {
          "base_uri": "https://localhost:8080/"
        }
      },
      "execution_count": 26,
      "outputs": [
        {
          "output_type": "stream",
          "name": "stdout",
          "text": [
            "(1, 'ANA', 20, 'Computaçao')\n",
            "(2, 'Caio', 18, 'Administração')\n",
            "(3, 'Maria', 22, 'Contabilidade')\n",
            "(4, 'Lucas', 19, 'Matematica')\n",
            "(5, 'Carol', 28, 'Medicina')\n"
          ]
        }
      ]
    },
    {
      "cell_type": "code",
      "source": [
        "dados = conn.execute('SELECT nome, idade FROM alunos WHERE idade > 20')\n",
        "for usuario in dados:\n",
        "    print(usuario)"
      ],
      "metadata": {
        "colab": {
          "base_uri": "https://localhost:8080/"
        },
        "id": "3a9EP9duXVlg",
        "outputId": "d96ad4b4-4fec-4aed-9221-fc1587545ca9"
      },
      "execution_count": 27,
      "outputs": [
        {
          "output_type": "stream",
          "name": "stdout",
          "text": [
            "('Maria', 22)\n",
            "('Carol', 28)\n"
          ]
        }
      ]
    },
    {
      "cell_type": "code",
      "source": [
        "dados = conn.execute('SELECT * FROM alunos WHERE curso = \"Engenharia\" ORDER BY nome ASC')\n",
        "for usuario in dados:\n",
        "    print(usuario)"
      ],
      "metadata": {
        "id": "WnxKYVi4Xa2X"
      },
      "execution_count": 28,
      "outputs": []
    },
    {
      "cell_type": "code",
      "source": [
        "dados = conn.execute('SELECT COUNT(*) FROM alunos')\n",
        "for usuario in dados:\n",
        "    print(usuario)"
      ],
      "metadata": {
        "colab": {
          "base_uri": "https://localhost:8080/"
        },
        "id": "T3JhNf2-Xea3",
        "outputId": "c705d38f-da16-4a7b-b0b9-cdc6f2d9465e"
      },
      "execution_count": 29,
      "outputs": [
        {
          "output_type": "stream",
          "name": "stdout",
          "text": [
            "(5,)\n"
          ]
        }
      ]
    },
    {
      "cell_type": "code",
      "source": [
        "dados = conn.execute('UPDATE alunos SET idade = 21 WHERE id = 1')\n",
        "for usuario in dados:\n",
        "    print(usuario)"
      ],
      "metadata": {
        "id": "N38Te2MpXlL3"
      },
      "execution_count": 30,
      "outputs": []
    },
    {
      "cell_type": "code",
      "source": [
        "dados = conn.execute('DELETE FROM alunos WHERE id = 2')\n",
        "for usuario in dados:\n",
        "    print(usuario)"
      ],
      "metadata": {
        "id": "BMUsnvx-Xpqm"
      },
      "execution_count": 31,
      "outputs": []
    }
  ]
}